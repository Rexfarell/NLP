{
 "cells": [
  {
   "cell_type": "markdown",
   "metadata": {},
   "source": [
    "\n",
    "Created on Tue Aug 21 11:52:01 2018\n",
    " \n",
    "Author: Eric Ávila, PhD student at Kongju National University \n",
    "Email:Rexfarell@gmail.com"
   ]
  },
  {
   "cell_type": "markdown",
   "metadata": {},
   "source": [
    "### Using NLTK as a tool to datamine political speeches  "
   ]
  },
  {
   "cell_type": "markdown",
   "metadata": {},
   "source": [
    "This is a small script I wrote while  reading  **NLTK book**. It served as a practice of the concepts covered up to chapter 3 about **Natural Language Processing**.    "
   ]
  },
  {
   "cell_type": "markdown",
   "metadata": {},
   "source": [
    "Originally, I used a set of dependencies to first, webscrape the website of the Newspaper __\"El Espectador\"__ and then, preprocess the raw text from the article \"**El Discurso Completo de Gustavo Petro Plaza de Bolivar**\", article 463248. However, maintaining the code was hard to accomplish, given the fact that even small changes in the website had enormous negative implications in how the data was collected and displayed.\n",
    "\n",
    "In the end, I decided to make a .txt copy of the original speech and upload it to **archive.org**, which is the url we are currently scraping.  \n",
    "\n",
    "[Speech after losing the presidential polls](https://www.elespectador.com/noticias/bogota/el-discurso-completo-de-gustavo-petro-plaza-de-bolivar-articulo-463248 \"Transcript\")       \n",
    " "
   ]
  },
  {
   "cell_type": "markdown",
   "metadata": {},
   "source": [
    "![PHOTOGRAPH](http://www.portafolio.co/files/article_multimedia/uploads/2018/03/11/5aa5e68aaf1d9.jpeg \"Gustavo Petro\") "
   ]
  },
  {
   "cell_type": "markdown",
   "metadata": {},
   "source": [
    "### The first block is the libraries used for this project  "
   ]
  },
  {
   "cell_type": "code",
   "execution_count": 57,
   "metadata": {},
   "outputs": [],
   "source": [
    "import nltk\n",
    "import re, pprint\n",
    "from urllib import request\n",
    "from bs4 import BeautifulSoup as bs\n",
    "from nltk import word_tokenize, sent_tokenize\n",
    "import requests\n",
    "from nltk.text import Text\n",
    "from nltk.probability import FreqDist\n",
    "from nltk.corpus import stopwords\n",
    "from nltk import corpus\n",
    "from IPython.display import HTML\n",
    "from IPython.display import Audio, Image, YouTubeVideo\n",
    " "
   ]
  },
  {
   "cell_type": "markdown",
   "metadata": {},
   "source": [
    "This second block, instantiates stopwords. The __Stopwords__ set includes the predetermined stopwords in NLTK, but here it can be customized to include more. Likewise, \"Words to remove\" serves to __customize__ the stopwords set by  eliminating words from the filtering list. "
   ]
  },
  {
   "cell_type": "code",
   "execution_count": 58,
   "metadata": {},
   "outputs": [
    {
     "name": "stdout",
     "output_type": "stream",
     "text": [
      "los stopwords al empezar son:  313\n",
      "Number of stopwords in the beginning: 317\n"
     ]
    }
   ],
   "source": [
    "\n",
    "noise_words = (stopwords.words(\"spanish\"))\n",
    "print(\"los stopwords al empezar son: \", len(noise_words))\n",
    "\n",
    "##Adds words to stopwords\n",
    "\n",
    "words_to_add=[\"cada\",\"aquí\", \"hoy\", \"si\", \",\", \".\"]\n",
    "for w in words_to_add:\n",
    "   if w not in noise_words:\n",
    "        noise_words.append(w)\n",
    " \n",
    "\n",
    "##Removes words from stopwords\n",
    "       \n",
    "words_to_remove=[\"yo\", \"no\"]\n",
    "for w in words_to_remove:\n",
    "   if w in noise_words:\n",
    "        noise_words.remove(w)  \n",
    "\n",
    "print(\"Number of stopwords in the beginning:\", len(noise_words))"
   ]
  },
  {
   "cell_type": "markdown",
   "metadata": {},
   "source": [
    " "
   ]
  },
  {
   "cell_type": "code",
   "execution_count": null,
   "metadata": {},
   "outputs": [],
   "source": []
  },
  {
   "cell_type": "markdown",
   "metadata": {},
   "source": [
    " The **number of stopwords** when you first execute the script is changed by the filtering that takes place in the stopwords code. The following code prints the total stopwords after the process."
   ]
  },
  {
   "cell_type": "code",
   "execution_count": 59,
   "metadata": {},
   "outputs": [
    {
     "name": "stdout",
     "output_type": "stream",
     "text": [
      "The number of stopwords in the end is: 317\n"
     ]
    }
   ],
   "source": [
    "print(\"The number of stopwords in the end is:\", len(noise_words))"
   ]
  },
  {
   "cell_type": "markdown",
   "metadata": {},
   "source": [
    "NLTK book uses a **Beautifulsoup** code that does not work on this specific website, which triggers a **bad request error**. Apparently, the method is detected as a bot, for that reason I had to find an Alternative web scrapping method to circumvent the the error.  "
   ]
  },
  {
   "cell_type": "code",
   "execution_count": 60,
   "metadata": {},
   "outputs": [
    {
     "name": "stdout",
     "output_type": "stream",
     "text": [
      "<Response [200]>\n",
      "headers {'Server': 'nginx/1.14.0 (Ubuntu)', 'Date': 'Sat, 02 Nov 2019 03:45:13 GMT', 'Content-Type': 'text/plain; charset=utf-8', 'Last-Modified': 'Fri, 01 Nov 2019 13:48:53 GMT', 'Transfer-Encoding': 'chunked', 'Connection': 'keep-alive', 'ETag': 'W/\"5dbc37c5-4589\"', 'Expires': 'Sat, 02 Nov 2019 09:45:13 GMT', 'Cache-Control': 'max-age=21600', 'Strict-Transport-Security': 'max-age=15724800', 'Content-Encoding': 'gzip'}\n"
     ]
    },
    {
     "data": {
      "text/plain": [
       "'\\r\\n\\r\\n\\r\\nEste es el discurso completo de Gustavo Petro en la Plaza de Bolívar\\r\\nBogotá\\r\\n10 Dic 2013 - 9:'"
      ]
     },
     "execution_count": 60,
     "metadata": {},
     "output_type": "execute_result"
    }
   ],
   "source": [
    "# The book's method raised a bad request error when webscrapping certain websites\n",
    "#This is an alternative method\n",
    "headers = { 'User-Agent': 'Mozilla/5.0 (Windows NT 6.3; Win64; x64) AppleWebKit/537.36 (KHTML, like Gecko)     Chrome/37.0.2049.0 Safari/537.36'}\n",
    "url=\"https://ia601407.us.archive.org/10/items/dicurso_petro_2013/dicurso_petro_2013.txt\"\n",
    " \n",
    "r = requests.get(url, headers=headers)\n",
    "print (r)\n",
    "print (\"headers\",r.headers)\n",
    " \n",
    " \n",
    "html = request.urlopen(url).read().decode(\"utf8\")\n",
    "html[:100]\n",
    "\n"
   ]
  },
  {
   "cell_type": "markdown",
   "metadata": {},
   "source": [
    "-If you only want the text part of a document or tag, you can use the get_text() method.\n",
    "-It returns all the text in a document or beneath a tag, as a single Unicode string.\n",
    "This text, as any other human text, contains words that are not informative for the program. Prepositions, for example, are removed because **their practical semantic content is next to null** and yet, they make for most of the tokens in the speech. The following code counts the tokens before they are extracted."
   ]
  },
  {
   "cell_type": "code",
   "execution_count": 61,
   "metadata": {},
   "outputs": [
    {
     "name": "stdout",
     "output_type": "stream",
     "text": [
      "The number of tokens before filtering is : 17449\n"
     ]
    }
   ],
   "source": [
    "raw=bs(html, \"html.parser\").get_text()\n",
    "print(\"The number of tokens before filtering is :\" ,len(raw))"
   ]
  },
  {
   "cell_type": "markdown",
   "metadata": {},
   "source": [
    "This obtains the **tokens** from the **raw text** and stores them in the variable tokens. This means that it separates words and punctuation into discrete units, since the separation has to be made explicitly for the machine, so that it can carry out other methods on our corpus.   "
   ]
  },
  {
   "cell_type": "code",
   "execution_count": 63,
   "metadata": {},
   "outputs": [],
   "source": [
    "tokens= word_tokenize(raw)"
   ]
  },
  {
   "cell_type": "markdown",
   "metadata": {},
   "source": [
    "The tokens are still mixed with **unwanted material** concerning site navigation and other types of noise.\n",
    "It takes patience and some trial and error to find the specific __beginning__ and __end indexes__ of the content. I try to use hapaxes (words used a single time) to get as close to the \"borders\" of the text as possible in the first attempt.  \n",
    "**If you want to recreate the process** and see how it actually works just remove the hastags(#) and run the cell. Beware it can be a little bit overwhelming to do this in a less controlled environment, such as a commercial website.   "
   ]
  },
  {
   "cell_type": "code",
   "execution_count": 62,
   "metadata": {},
   "outputs": [],
   "source": [
    "#print (raw[20117:37210])\n",
    "#tokens = tokens[20117:37210]"
   ]
  },
  {
   "cell_type": "code",
   "execution_count": 64,
   "metadata": {
    "scrolled": true
   },
   "outputs": [
    {
     "name": "stdout",
     "output_type": "stream",
     "text": [
      "BEGINNING OF THE SPEECH>>> 3231\n",
      "END OF THE SPEECH>>> 3256\n",
      "MY SWEET, SWEET TOKENS 'COURTESY' of El ESPECTADOR'>>>> ['No', 'va', 'a', 'ser', 'fácil', 'este', 'discurso', ',', 'espero', 'que', 'estas', 'palabras', 'que', 'quiero', 'decirles', 'a', 'ustedes', 'salgan', 'fácilmente', ',', 'sé', 'que', 'aquí', 'están', 'los', 'pobres', 'de', 'la', 'tierra', ',', 'como', 'decía', 'el', 'poeta', ',', 'las', 'trabajadoras', ',', 'los', 'trabajadores', ',', 'la', 'mujer', ',', 'las', 'juventudes', ',', 'los', 'discriminados', ',', 'sé', 'que', 'aquí', 'me', 'acompaña', 'por', 'quienes', 'quisimos', 'gobernar', ',', 'por', 'quienes', 'nos', 'hemos', 'arriesgado', ',', 'por', 'lo', 'que', 'lo', 'vale', 'todo', ',', 'por', 'lo', 'que', 'puede', 'cambiar', 'la', 'historia', ',', 'quiero', 'que', 'ustedes', 'sean', 'conscientes', ',', 'cada', 'uno', 'de', 'ustedes', ',', 'cada', 'una', 'de', 'ustedes', 'que', 'empezamos', 'a', 'vivir', 'días', 'de', 'historia', '.', 'Esto', 'no', 'es', 'una', 'manifestación', 'más', ',', 'no', 'es', 'que', 'pasarán', 'unas', 'horas', 'que', 'nos', 'verán', 'ir', ',', 'que', 'dirán', ',', 'ya', 'salieron', 'a', 'gritar', 'a', 'la', 'Plaza', 'de', 'Bolívar', ',', 'pero', 'se', 'cansarán', ',', 'dirán', 'que', 'sus', 'cálculos', 'politiqueros', 'podrán', 'vencer', 'de', 'nuevo', 'como', 'siempre', 'lo', 'han', 'hecho', 'en', 'la', 'historia', 'de', 'Colombia', ',', 'el', 'ansia', 'de', 'la', 'paz', ',', 'de', 'la', 'democracia', 'de', 'la', 'libertad', 'de', 'nuestro', 'pueblo', ',', 'yo', 'no', 'soy', 'quién', 'en', 'realidad', ',', 'quizás', 'por', 'los', 'avatares', 'de', 'la', 'historia', 'misma', ',', 'un', 'muchacho', 'humilde', 'que', 'decidió', 'leer', 'libros', 'y', 'libros', 'y', 'en', 'los', 'libros', 'encontrar', 'palabras', 'de', 'rebeldía', 'y', 'levantarme', 'contra', 'lo', 'que', 'consideraba', 'injusto', '.', 'Cuando', 'era', 'joven', ',', 'lanzaron', 'dos', 'mensajes', 'de', 'violencia', 'que', 'atravesaron', 'mi', 'memoria', ',', 'mi', 'corazón', ',', 'un', '11', 'de', 'septiembre', 'el', 'golpe', 'de', 'Estado', 'contra', 'Allende', ',', '1973', ',', 'y', 'un', '19', 'de', 'abril', 'de', '1970', 'un', 'fraude', 'electoral', 'contra', 'el', 'voto', 'popular', 'en', 'Colombia', '.', 'Desde', 'ese', 'entonces', 'en', 'los', 'libros', 'iba', 'leyendo', 'lo', 'que', 'era', 'la', 'oligarquía', 'colombiana', ',', 'una', 'oligarquía', 'sectaria', ',', 'atrasada', ',', 'feudal', ',', 'dogmática', 'pero', 'asesina', ',', 'en', 'su', 'corazón', 'no', 'ha', 'sido', 'posible', 'hablar', 'el', 'lenguaje', 'de', 'la', 'paz', ',', 'el', 'lenguaje', 'del', 'entendimiento', ',', 'creen', 'que', 'con', 'la', 'trampa', ',', 'creen', 'que', 'con', 'el', 'engaño', ',', 'creen', 'que', 'con', 'el', 'juego', 'sucio', 'pueden', 'manipular', 'la', 'historia', 'de', 'Colombia', '.', 'Fui', 'aprendiendo', 'que', 'este', 'tipo', 'de', 'élites', 'que', 'gobiernan', 'este', 'país', 'eran', 'capaces', 'de', 'matar', 'por', 'su', 'codicia', ',', 'que', 'no', 'habían', 'entendido', 'lo', 'que', 'significaba', 'la', 'palabra', 'democracia', ',', 'que', 'antaño', 'unos', 'jóvenes', 'rebeldes', ',', 'Nariño', ',', 'Santander', ',', 'Caldas', ',', 'Camilo', 'Torres', ',', 'Bolívar', ',', 'nos', 'habían', 'enseñado', '.', 'Al', 'principio', 'fue', 'en', 'los', 'libros', ',', 'leí', 'la', 'historia', 'de', 'Gaitán', 'que', 'fue', 'alcalde', 'de', 'Bogotá', ',', 'que', 'destituyeron', 'y', 'luego', 'asesinaron', ',', 'traté', 'de', 'entender', 'lo', 'que', 'había', 'detrás', 'de', 'eso', ',', 'dieron', 'la', 'orden', 'oscuros', 'en', 'los', 'palacios', 'jugando', 'al', 'póker', ',', 'dieron', 'la', 'orden', 'de', 'disparar', 'con', 'los', 'tanques', 'de', 'guerra', 'sobre', 'ese', 'palacio', 'y', 'asesinar', 'a', 'todos', 'los', 'que', 'estaban', 'dentro', ',', 'dieron', 'la', 'orden', 'de', 'asesinar', 'al', 'candidato', 'presidencial', 'Luis', 'Carlos', 'Calán', ',', 'dieron', 'la', 'orden', 'de', 'asesinar', 'al', 'candidato', 'presidencial', 'Bernardo', 'Jaramillo', ',', 'y', 'dieron', 'la', 'orden', 'de', 'asesinar', 'a', 'nuestro', 'comandante', 'candidato', 'presidencial', 'Carlos', 'Pizarro', '.', 'No', 'habían', 'pasado', ',', '4', 'meses', 'de', 'la', 'firma', 'de', 'nuestro', 'acuerdo', 'de', 'paz', 'y', 'asesinaron', 'al', 'hombre', 'joven', 'que', 'podía', 'ganar', 'la', 'presidencia', 'de', 'la', 'República', ',', 'al', 'comandante', ',', 'al', 'jefe', 'de', 'la', 'paz', ',', 'a', 'Pizarro', ',', 'desataron', 'el', 'genocidio', '140', 'palacios', 'de', 'justicia', 'en', 'toda', 'Colombia', ',', 'descuartizando', 'y', 'masacrando', 'campesinos', ',', '200', 'mil', 'en', 'los', 'últimos', '10', 'años', 'y', 'aun', 'así', ',', 'aun', 'así', 'Aída', '(', 'Abella', ')', ',', 'a', 'ti', 'que', 'te', 'dispararon', 'un', 'rokect', ',', 'porque', 'te', 'querían', 'despedazar', 'en', 'la', 'autopista', 'norte', ',', 'querían', 'acallarte', ',', 'acallar', 'a', 'tu', 'partido', ',', 'acallar', 'a', 'tu', 'movimiento', ',', 'mataron', 'miles', 'y', 'miles', 'de', 'miembros', 'de', 'la', 'Unión', 'Patriótica', ',', 'no', 'podían', 'resistir', 'la', 'diferencia', ',', 'y', 'aun', 'así', 'yo', 'soy', 'el', 'alcalde', 'Mayor', 'de', 'Bogotá', ',', 'y', 'como', 'jefe', 'constitucional', 'de', 'la', 'Policía', 'Nacional', 'les', 'ordeno', 'dejar', 'pasar', 'a', 'la', 'gente', 'que', 'quiera', '...', 'Esta', 'historia', ',', 'esta', 'historia', 'es', 'indispensable', 'contarla', 'porque', 'aquí', 'también', 'nos', 'acompaña', 'el', 'hombre', 'que', 'recogió', 'los', 'restos', 'asesinados', 'de', 'Pizarro', ',', 'que', 'nos', 'dijo', 'en', 'un', 'momento', 'muy', 'difícil', 'recuerdo', 'yo', ',', 'jovencito', 'que', 'era', ',', 'como', 'muchos', 'de', 'nosotros', ',', 'tuvo', 'la', 'tranquilidad', 'suficiente', 'para', 'decirle', 'a', 'Colombia', ',', 'a', 'pesar', 'de', 'que', 'el', 'fascismo', ',', 'narcotraficante', 'y', 'su', 'poder', 'político', 'nos', 'asesinan', 'a', 'Pizarro', ',', 'en', 'nosotros', 'está', 'la', 'generación', 'de', 'la', 'Paz', ',', 'está', 'la', 'posibilidad', 'de', 'la', 'paz', '.', 'Este', 'pueblo', 'inmenso', 'colombiano', 'no', 'quiere', 'la', 'guerra', ',', 'no', 'quiere', 'la', 'violencia', ',', 'está', 'cansado', 'de', 'enterrar', 'mártires', ',', 'héroes', ',', 'gente', 'humilde', ',', 'no', 'quiere', 'más', 'escuchar', 'a', 'los', 'que', 'nos', 'convocan', ',', 'para', 'que', 'nuestros', 'hijos', 'se', 'unten', 'de', 'sangre', ',', 'este', 'pueblo', 'se', 'merece', 'el', 'futuro', ',', 'eso', 'nos', 'decía', 'el', 'hombre', 'que', 'aquí', 'nos', 'acompaña', ':', 'Navarro', 'Wolf', '.', 'No', 'sabían', ',', 'pasaron', 'por', 'el', 'pelotón', 'de', 'fusilamiento', 'como', 'decía', 'Gabriel', 'García', 'Márquez', 'y', 'sin', 'embargo', 'de', 'alguna', 'manera', 'mágica', ',', 'como', 'mágica', 'es', 'América', 'Latina', ',', 'surgió', 'entre', 'las', 'piedras', 'la', 'victoria', 'electoral', 'que', 'nos', 'hizo', 'mayoría', 'en', 'la', 'Asamblea', 'Nacional', 'Constituyente', ',', 'del', 'cual', 'fue', 'presidente', '(', 'Navarro', ')', ',', 'pasaron', 'unos', 'meses', 'apenas', 'de', 'que', 'brindaban', 'en', 'los', 'cócteles', 'por', 'la', 'muerte', 'de', 'Pizarro', ',', 'y', 'sin', 'embargo', 'tuvieron', 'que', 'aguantarse', 'el', 'que', 'nosotros', ',', 'la', 'generación', 'de', 'la', 'paz', ',', 'hiciera', 'la', 'Constitución', 'que', 'aún', 'hoy', 'está', 'vigente', '.', '¿Cuál', 'es', 'entonces', 'nuestro', 'camino', 'hoy', '?', 'Cuando', 'el', 'fascismo', 'quiere', 'volver', 'a', 'despedazarnos', ',', '¿hay', 'alguna', 'diferencia', ',', 'Aída', ',', 'pregunto', 'yo', ',', 'entre', 'quienes', 'dieron', 'las', 'órdenes', 'para', 'fusilar', 'a', 'miles', 'y', 'miles', 'de', 'militantes', 'democráticos', 'y', 'quienes', 'dan', 'la', 'orden', 'hoy', 'para', 'quitarnos', 'los', 'derechos', 'políticos', '?', '¿Qué', 'le', 'puede', 'decir', 'el', 'procurador', 'hoy', 'al', 'mundo', '?', ',', '¿Que', 'porque', 'oró', 'frente', 'a', 'la', 'Virgen', 'María', ',', 'a', 'la', 'cual', 'yo', 'respeto', ',', 'le', 'consagró', 'el', 'que', 'le', 'hubiera', 'podido', 'quitar', 'los', 'derechos', 'políticos', 'a', 'lo', 'que', 'él', 'denomina', 'un', 'comunista', 'ateo', '?', 'O', 'al', 'contrario', 'tiene', 'que', 'decirle', 'al', 'mundo', 'que', 'él', 'continuó', 'con', 'la', 'tarea', ',', 'hoy', 'a', 'través', 'y', 'manipulando', 'la', 'norma', ',', 'y', 'rompiendo', 'la', 'Constitución', ',', 'y', 'rompiendo', 'el', 'Estado', 'de', 'Derecho', ',', 'y', 'rompiendo', 'la', 'Carta', 'Democrática', 'de', 'la', 'OEA', 'y', 'el', 'Pacto', 'de', 'Derechos', 'Civiles', 'y', 'Democráticos', ',', 'que', 'le', 'ha', 'quitado', 'los', 'derechos', 'políticos', ',', 'los', 'derechos', 'fundamentales', 'a', 'ejercer', ',', 'a', 'votar', 'y', 'a', 'ser', 'elegido', 'a', 'quién', 'denunció', 'el', 'paramilitarismo', ',', 'a', 'quien', 'denunció', 'el', 'cartel', 'de', 'la', 'contratación', 'por', 'medio', 'del', 'cual', ',', 'unos', 'cuantos', 'empresarios', 'corruptos', ',', 'empresarios', 'del', 'poder', 'y', 'de', 'la', 'muerte', ',', 'habían', 'decidido', 'quedarse', 'con', 'los', 'dineros', 'públicos', 'de', 'todos', 'los', 'bogotanos', '.', 'El', 'procurador', 'tiene', 'que', 'decirle', 'al', 'mundo', 'que', 'él', 'es', 'el', 'continuador', 'en', 'una', 'de', 'sus', 'formas', 'de', 'lucha', ',', 'de', 'la', 'misma', 'lucha', 'de', 'quienes', 'levantaron', 'las', 'sierras', 'eléctricas', ',', 'de', 'quienes', 'quisieron', 'extinguir', 'la', 'diferencia', 'en', 'Colombia', ',', 'la', 'diversidad', 'y', 'la', 'democracia', ',', 'por', 'eso', ',', 'haciendo', 'una', 'reflexión', ',', '¿cuál', 'es', 'nuestra', 'actitud', 'hoy', '?', 'Pues', 'recuerdo', 'Antonio', '(', 'Navarro', ')', 'sus', 'palabras', 'ante', 'Pizarro', 'muerto', 'en', 'su', 'tumba', ':', 'Nosotros', 'somos', 'la', 'generación', 'de', 'la', 'paz', ',', 'no', 'nos', 'vamos', 'a', 'dejar', 'arrebatar', 'de', 'nuevo', 'la', 'esperanza', 'de', 'la', 'paz', 'y', 'la', 'democracia', ',', 'no', 'vamos', 'a', 'caer', 'en', 'sus', 'trampas', ',', 'nos', 'quieren', 'llevar', 'a', 'la', 'violencia', 'y', 'no', 'señores', ',', 'los', 'violentos', 'son', 'ellos', ',', 'los', 'tristes', 'son', 'ellos', ',', 'nosotros', 'somos', 'la', 'alegría', ',', 'nosotros', 'somos', 'la', 'paz', 'y', 'la', 'democracia', '.', 'Alegres', 'pero', 'firmes', ',', 'por', 'eso', 'debemos', 'ser', 'conscientes', 'de', 'lo', 'que', 'empieza', 'hoy', 'en', 'la', 'Plaza', 'de', 'Bolívar', 'de', 'Bogotá', '.', 'Aquí', 'empieza', 'una', 'movilización', 'popular', ',', 'este', 'es', 'el', 'primer', 'día', 'de', 'muchos', ',', 'hoy', 'nos', 'vemos', 'muchos', ',', 'pues', 'seremos', 'más', '.', 'Creyeron', 'que', 'calculando', 'la', 'decisión', 'arbitraria', ',', 'cercana', 'la', 'Navidad', ',', 'el', 'pueblo', 'no', 'iba', 'a', 'salir', 'a', 'las', 'calles', '.', 'Cómo', 'será', ',', 'cómo', 'será', 'la', 'conciencia', 'de', 'la', 'arbitrariedad', 'que', 'han', 'cometido', ',', 'que', 'temerosos', 'del', 'pueblo', ',', 'temerosos', 'de', 'la', 'democracia', 'una', 'vez', 'hicieron', 'su', 'rueda', 'de', 'prensa', 'anunciando', 'la', 'ingrata', 'noticia', ',', 'desocuparon', 'y', 'evacuaron', 'la', 'Procuraduría', 'General', 'de', 'la', 'Nación', ',', 'la', 'hicieron', 'rodear', 'de', 'fusiles', 'y', 'tanques', '.', 'Miren', 'qué', 'diferencia', ',', 'miren', 'qué', 'diferencia', ',', 'mientras', 'allá', 'está', 'el', 'vacío', 'lúgubre', 'de', 'los', 'pasillos', 'de', 'la', 'Procuraduría', ',', 'mientras', 'sólo', 'se', 'pueden', 'defender', 'a', 'punta', 'de', 'fusiles', ',', 'aquí', 'estamos', 'nosotros', ',', 'aquí', 'estamos', 'nosotros', 'sin', 'una', 'sola', 'arma', 'rodeados', 'de', 'los', 'del', 'pueblo', '.', 'La', 'diferencia', 'es', 'que', 'allá', 'son', 'conscientes', 'de', 'lo', 'que', 'hicieron', ',', 'allá', 'para', 'que', 'Uribe', 'pudiera', 'subrayar', 'su', 'amistad', 'con', 'con', 'Pacho', 'Santos', ',', 'entonces', 'armaron', 'la', 'trapisonda', ',', 'destituyamos', 'a', 'Petro', 'que', 'nada', 'pasa', ',', 'y', 'ponemos', 'a', 'Pacho', 'Santos', 'en', 'la', 'Alcaldía', '...', '¡ay', 'Uribe', ',', 'como', 'si', 'se', 'pudiera', 'borrar', 'al', 'pueblo', '!', 'Aquí', 'comienza', 'un', 'movimiento', 'popular', '.', 'Esta', 'Plaza', 'de', 'Bolívar', 'tiene', 'que', 'ser', 'el', 'comienzo', 'de', 'muchas', 'Plazas', 'de', 'Bolívar', 'en', 'todos', 'los', 'pueblos', 'de', 'Colombia', '.', 'Con', 'mucha', 'tranquilidad', ',', 'con', 'mucha', 'alegría', ',', 'pacíficamente', ',', 'el', 'Alcalde', 'Mayor', 'de', 'Bogotá', 'convoca', 'a', 'toda', 'la', 'ciudadanía', 'de', 'Colombia', 'a', 'expresarse', 'en', 'las', 'plazas', 'de', 'Bolívar', 'para', 'convertirlas', 'en', 'la', 'prosa', 'de', 'la', 'democracia', ',', 'en', 'las', 'prosas', 'de', 'la', 'Paz', '.', 'Quiero', ',', 'que', 'los', 'indígenas', 'salgan', 'con', 'sus', 'cabildos', ',', 'quiero', 'que', 'el', 'movimiento', 'agrario', 'salga', 'a', 'abrazar', 'a', 'la', 'Bogotá', 'Humana', ',', 'quiero', 'que', 'los', 'trabajadores', 'y', 'las', 'trabajadoras', 'de', 'Colombia', 'organizados', 'o', 'no', ',', 'constituyan', 'los', 'comités', 'de', 'defensa', 'de', 'la', 'Bogotá', 'Humana', 'que', 'son', 'los', 'mismos', 'comités', 'de', 'defensa', 'de', 'la', 'paz', 'y', 'la', 'democracia', ',', 'quiero', 'que', 'las', 'juventudes', 'animalistas', ',', 'las', 'que', 'saben', 'qué', 'significa', 'matar', 'entre', 'aplausos', 'y', 'alegrías', 'un', 'toro', ',', 'quiero', 'que', 'las', 'juventudes', 'ambientalistas', 'que', 'saben', 'que', 'es', 'más', 'importante', 'un', 'árbol', 'que', 'un', 'bolardo', ',', 'que', 'es', 'más', 'importante', 'un', 'humedal', 'que', 'una', 'losa', 'de', 'cemento', ',', 'quiero', 'que', 'todas', 'las', 'juventudes', 'de', 'Colombia', ',', 'que', 'saben', 'que', 'es', 'más', 'importante', 'el', 'cerebro', 'que', 'el', 'cemento', ',', 'el', 'libro', 'que', 'el', 'tanque', 'de', 'guerra', ',', 'se', 'reúnan', 'en', 'las', 'plazas', 'de', 'Colombia', 'y', 'produzcamos', 'el', 'movimiento', 'que', 'sea', 'capaz', 'de', 'detener', 'a', 'los', 'enemigos', 'de', 'la', 'Paz', '.', 'Lo', 'que', 'tenemos', 'que', 'detener', 'es', 'un', 'fascismo', ',', 'no', 'es', 'este', 'el', 'único', 'caso', 'en', 'el', 'mundo', ',', 'muchos', 'fascismos', 'se', 'han', 'detenido', 'en', 'el', 'mundo', 'bajo', 'la', 'consigna', 'de', 'no', 'pasarán', ',', 'le', 'tocó', 'a', 'Bogotá', 'ser', 'el', 'inicio', 'de', 'este', 'movimiento', 'de', 'los', 'indignados', 'de', 'Colombia', ',', 'le', 'tocó', 'a', 'Bogotá', 'ser', 'la', 'vanguardia', 'de', 'quienes', 'decimos', 'basta', 'a', 'la', 'trampa', ',', 'de', 'quienes', 'decimos', 'basta', 'al', 'asesinato', ',', 'de', 'quienes', 'decimos', 'que', 'aquí', 'en', 'Colombia', 'debe', 'reinar', 'la', 'paz', 'y', 'la', 'democracia', 'el', 'entendimiento', 'y', 'el', 'diálogo', ',', 'que', 'el', 'Presidente', 'de', 'la', 'República', 'lo', 'sepa', ',', 'él', 'es', 'el', 'que', 'tiene', 'que', 'decidir', 'en', 'última', 'instancia', ',', 'él', 'es', 'el', 'que', 'tiene', 'que', 'decidir', 'si', 'avala', 'la', 'decisión', 'del', 'Procurador', 'o', 'es', 'capaz', ',', 'ante', 'la', 'ruptura', 'de', 'la', 'Constitución', ',', 'de', 'impedir', 'su', 'orden', 'arbitraria', ',', 'ahora', 'sabremos', 'si', 'el', 'Presidente', 'de', 'la', 'República', 'está', 'con', 'la', 'paz', 'o', 'simplemente', 'con', 'su', 'reelección', '.', 'Que', 'América', 'Latina', ',', 'el', 'pueblo', 'latinoamericano', 'que', 'es', 'diversidad', ',', 'ha', 'sido', 'capaz', 'de', 'decirle', 'al', 'mundo', 'su', 'dignidad', ',', 'su', 'soberanía', 'que', 'hoy', 'Bogotá', 'se', 'levanta', 'indignada', 'esperando', 'la', 'solidaridad', 'latinoamericana', ',', 'y', 'como', 'somos', 'un', 'movimiento', 'internacional', 'de', 'solidaridad', 'con', 'la', 'Bogotá', 'Humana', 'para', 'que', 'aquí', 'el', 'fascismo', 'se', 'detenga', '.', 'Quieren', 'acabar', 'con', 'la', 'Bogotá', 'humana', 'porque', 'quieren', 'acabar', 'con', 'la', 'democracia', 'en', 'América', 'Latina', '.', 'Que', 'lo', 'sepan', 'en', 'La', 'Habana', '.', 'Que', 'lo', 'sepan', 'en', 'La', 'Habana', ',', 'el', 'mensaje', ',', 'el', 'mensaje', 'que', 'quiere', 'dar', 'el', 'Procurador', 'no', 'es', 'solamente', 'la', 'repetición', 'vieja', 'del', 'discurso', 'dogmático', 'y', 'sectario', 'que', 'elimina', 'la', 'diferencia', ',', 'es', 'también', 'una', 'trampa', 'que', 'quieren', 'eliminando', 'Bogotá', 'Humana', ',', 'es', 'lanzar', 'un', 'mensaje', 'de', 'guerra', 'sobre', 'La', 'Habana', 'y', 'aquí', 'queremos', 'decirlo', 'con', 'mucha', 'claridad', ',', 'los', 'hombres', 'que', 'aquí', 'estamos', ',', 'que', 'nos', 'levantamos', 'en', 'armas', ',', 'que', 'no', 'nos', 'dejamos', 'arrodillar', 'ante', 'la', 'tortura', 'y', 'nos', 'condujeron', 'a', 'la', 'cárcel', ',', 'Antonio', 'que', 'también', 'como', 'Aída', ',', 'que', 'nunca', 'conoció', 'un', 'arma', ',', 'pero', 'Antonio', 'qué', 'le', 'quitaron', 'la', 'pierna', ',', 'su', 'voz', 'en', 'uno', 'de', 'los', 'tantos', 'atentados', ',', 'nosotros', 'que', 'nos', 'levantamos', 'en', 'armas', 'pero', 'que', 'firmamos', 'la', 'paz', 'tres', 'años', 'antes', 'que', 'Nelson', 'Mandela', ',', 'parte', 'del', 'gobierno', ',', 'las', 'Farc', 'en', 'La', 'Habana', ',', 'que', 'no', 'retrocedan', 'ante', 'la', 'paz', ',', 'que', 'lo', 'que', 'quieren', 'hacer', 'aquí', 'es', 'una', 'trampa', 'para', 'impedir', 'la', 'paz', 'de', 'Colombia', ',', 'qué', 'quieren', 'dejándonos', 'a', 'nosotros', ',', 'los', 'que', 'formamos', 'la', 'paz', ',', 'los', 'que', 'le', 'cumplimos', 'a', 'Colombia', 'con', 'nuestra', 'firma', ',', 'los', 'que', 'dijimos', 'que', 'la', 'palabra', 'vale', ',', 'que', 'palabra', 'que', 'sí', ',', 'los', 'que', 'hicimos', 'la', 'Constitución', ',', 'y', 'los', 'que', 'gobernamos', 'estos', 'dos', 'años', 'sin', 'robarnos', 'un', 'peso', ',', 'con', 'la', 'frente', 'en', 'alto', ',', 'los', 'que', 'con', 'el', 'corazón', 'decidimos', 'política', 'pública', 'tras', 'política', 'pública', 'sólo', 'con', 'el', 'afán', 'de', 'favorecer', 'a', 'los', 'humildes', ',', 'de', 'favorecer', 'a', 'los', 'excluidos', ',', 'de', 'favorecer', 'a', 'los', 'discriminados', ',', 'nosotros', 'les', 'decimos', 'a', 'los', 'guerrilleros', 'de', 'las', 'Farc', ':', 'ni', 'se', 'les', 'ocurra', 'bajar', 'la', 'bandera', 'de', 'la', 'paz', ',', 'la', 'paz', 'es', 'la', 'democracia', ',', 'la', 'paz', 'es', 'la', 'justicia', 'social', 'y', 'aquí', 'estamos', 'construyendo', 'esta', 'Bogotá', ',', 'hoy', 'vanguardia', 'democrática', 'de', 'Colombia', ',', 'cada', 'uno', 'de', 'nosotros', ',', 'cada', 'una', 'de', 'nosotras', ',', 'presente', 'uno', 'junto', 'al', 'otro', ',', 'una', 'junta', 'a', 'la', 'otra', ',', 'somos', 'la', 'cadena', 'de', 'afectos', 'qué', 'puede', 'lograr', 'verdaderamente', 'la', 'transformación', 'de', 'Colombia', 'y', 'la', 'paz', '.', 'Yo', 'voy', 'hasta', 'donde', 'ustedes', 'me', 'digan', ',', 'si', 'vamos', 'a', 'ir', 'a', 'donde', 'queremos', ',', 'hacia', 'la', 'paz', 'y', 'la', 'democracia', ',', 'tenemos', 'que', 'saber', 'lo', 'que', 'tenemos', 'que', 'hacer', 'en', 'estos', 'días', ',', 'esta', 'es', 'la', 'Plaza', 'Tahir', 'de', 'Colombia', ',', 'aquí', 'debe', 'comenzar', 'una', 'revolución', 'democrática', 'y', 'pacífica', ',', 'una', 'revolución', 'de', 'los', 'corazones', 'y', 'de', 'los', 'cerebros', ',', 'hemos', 'convocado', 'a', 'América', 'Latina', 'y', 'creemos', 'que', 'América', 'Latina', 'nos', 'va', 'a', 'responder', ',', 'creemos', ',', 'a', 'pesar', 'de', 'la', 'opinión', 'del', 'fascismo', ',', 'que', 'la', 'Bogotá', 'Humana', 'se', 'va', 'a', 'quedar', 'en', 'este', 'Palacio', 'y', 'en', 'los', 'barrios', 'de', 'Bogotá', ',', 'pero', 'quiero', 'que', 'me', 'acompañen', 'para', 'enseñarle', 'a', 'Colombia', ',', 'quiero', 'que', 'nos', 'hagamos', 'aquí', 'un', 'compromiso', ',', 'no', 'solamente', 'nos', 'vamos', 'a', 'ver', 'hoy', 'en', 'una', 'manifestación', 'más', 'en', 'la', 'Plaza', 'de', 'Bolívar', ',', 'aquí', 'ha', 'de', 'quedar', 'un', 'equipo', ',', 'voluntarios', 'y', 'voluntarias', 'haciendo', 'vela', 'democrática', 'en', 'la', 'Plaza', ',', 'aquí', 'mañana', 'tenemos', 'que', 'volver', 'y', 'pasado', 'mañana', ',', 'y', 'después', 'de', 'pasado', 'mañana', ',', 'aquí', 'cada', 'vez', 'más', 'y', 'más', 'pueblo', 'y', 'multitud', ',', 'aquí', 'vamos', 'a', 'saber', 'defender', 'la', 'dignidad', 'de', 'Colombia', ',', 'aquí', 'el', 'alcalde', 'se', 'queda', 'si', 'ustedes', 'se', 'quedan', '.', 'Aquí', 'se', 'prenderá', 'la', 'antorcha', 'simbólica', 'de', 'la', 'democracia', 'y', 'esperaremos', 'que', 'las', 'novenas', 'navideñas', 'en', 'toda', 'Colombia', 'se', 'den', 'en', 'las', 'plazas', 'alrededor', 'de', 'la', 'antorcha', 'democrática', '.', 'Esperaremos', 'aquí', 'la', 'decisión', 'de', 'la', 'Comisión', 'Interamericana', 'de', 'Derechos', 'Humanos', ',', 'esperaremos', 'aquí', 'la', 'decisión', 'de', 'la', 'Corte', 'Constitucional', ',', 'veremos', 'si', 'es', 'cierto', 'que', 'es', 'un', 'ilícito', 'en', 'Colombia', 'desprivatizar', 'un', 'servicio', 'público', ',', 'veremos', 'si', 'es', 'cierto', 'que', 'el', 'alcalde', 'de', 'Bogotá', 'actuó', 'irregularmente', 'porque', 'le', 'quitó', '500', 'mil', 'millones', 'de', 'pesos', 'que', 'cuatro', 'contratistas', 'le', 'robaban', 'a', 'los', 'usuarios', 'del', 'aseo', 'de', 'Bogotá', ',', 'veremos', 'si', 'es', 'cierto', 'que', 'es', 'pecado', 'en', 'Colombia', 'el', 'reciclaje', 'y', 'la', 'separación', 'en', 'la', 'fuente', ',', 'veremos', 'si', 'es', 'cierto', 'que', 'es', 'una', 'ruptura', 'del', 'orden', 'constitucional', 'remunerando', 'a', 'los', 'humildes', 'recicladores', 'en', 'vez', 'de', 'arrodillarse', 'al', 'poderoso', 'contratista', 'del', 'aseo', ',', 'veremos', 'si', 'es', 'cierto', 'que', 'la', 'alcaldesa', 'de', 'la', 'derecha', 'no', 'cometió', 'ninguna', 'irregularidad', 'cuando', 'dejó', 'once', 'días', 'a', 'Madrid', ',', 'España', ',', 'con', 'las', 'basuras', 'en', 'la', 'calle', ',', 'pero', 'si', 'es', 'irregularidad', 'que', 'el', 'alcalde', 'de', 'la', 'izquierda', 'de', 'Bogotá', 'le', 'haya', 'resuelto', 'a', 'la', 'ciudad', 'en', 'tres', 'días', 'el', 'sistema', 'del', 'aseo', 'de', 'los', 'operadores', '.', 'Quiero', 'que', 'seamos', 'conscientes', 'del', 'compromiso', 'que', 'estamos', 'asumiendo', ',', 'Petro', 'no', 'saldrá', 'jamás', 'a', 'una', 'convocatoria', 'a', 'la', 'violencia', ',', 'pero', 'no', 'esperen', 'que', 'permitamos', 'que', 'el', 'voto', 'popular', 'y', 'la', 'democracia', 'se', 'arrodillen', ',', 'no', ',', 'yo', 'creí', 'en', 'las', 'buenas', 'maneras', ',', 'yo', 'creí', 'en', 'los', 'discursos', ',', 'yo', 'hasta', 'por', 'convicción', 'propia', 'voté', 'por', 'el', 'Procurador', 'para', 'demostrar', 'que', 'la', 'diferencia', 'es', 'posible', 'en', 'el', 'Estado', ',', 'pero', 'no', 'podemos', 'ser', 'ingenuos', ',', 'ellos', 'no', 'nos', 'tratan', 'de', 'la', 'misma', 'manera', ',', 'ellos', 'negocian', 'con', 'la', 'democracia', ',', 'ellos', 'manipulan', 'la', 'Constitución', '.', 'Quiero', 'que', 'seamos', 'conscientes', 'de', 'la', 'decisión', 'que', 'vamos', 'a', 'tomar', ',', 'la', 'decisión', 'es', 'convertir', 'esta', 'plaza', 'en', 'el', 'gran', 'ágora', 'de', 'la', 'democracia', 'en', 'Colombia', ',', 'cada', 'una', 'de', 'ustedes', ',', 'cada', 'uno', 'de', 'ustedes', ',', 'ahora', 'dejaremos', 'los', 'voluntarios', 'que', 'quieran', 'velar', 'la', 'democracia', ',', 'pero', 'cuando', 'regresen', 'a', 'sus', 'casas', 'a', 'sus', 'barrios', 'a', 'sus', 'lugares', 'de', 'trabajo', 'organicen', 'la', 'rabia', 'y', 'la', 'indignación', ',', 'no', 'dejen', 'que', 'se', 'vaya', 'a', 'la', 'violencia', ',', 'díganles', 'que', 'vengan', 'a', 'la', 'Plaza', ',', 'que', 'el', 'Alcalde', 'estará', 'aquí', 'para', 'acompañarlos', ',', 'que', 'cada', 'vez', 'seamos', 'más', ',', 'que', 'la', 'población', 'de', 'Ciudad', 'Bolívar', ',', 'de', 'Kennedy', ',', 'de', 'Engativá', ',', 'de', 'Suba', ',', 'de', 'Tunjuelito', ',', 'que', 'los', 'niños', 'y', 'las', 'niñas', ',', 'los', 'artistas', ',', 'las', 'artistas', ',', 'las', 'mujeres', ',', 'los', 'trabajadores', ',', 'los', 'necesitamos', 'aquí', ',', 'que', 'este', 'es', 'el', 'momento', 'de', 'cambiar', 'la', 'historia', 'de', 'Colombia', ',', 'que', 'aquí', 'hay', 'gente', 'dispuesta', 'a', 'asumir', 'el', 'compromiso', ',', 'que', 'lo', 'que', 'nos', 'emociona', 'aquí', 'no', 'es', 'un', 'puesto', ',', 'no', 'es', 'un', 'salario', ',', 'el', 'salario', 'se', 'lo', 'podemos', 'regalar', 'al', 'Procurador', '.', 'No', 'nos', 'obnubilan', 'las', 'riquezas', 'ni', 'los', 'palacios', ',', 'lo', 'que', 'queremos', 'defender', 'aquí', 'es', 'la', 'dignidad', ',', 'lo', 'que', 'queremos', 'defender', 'aquí', 'es', 'el', 'respeto', 'que', 'se', 'merece', 'el', 'voto', 'popular', 'del', '30', 'de', 'octubre', ',', 'lo', 'que', 'queremos', 'defender', 'aquí', 'es', 'el', 'derecho', 'a', 'gobernar', 'por', 'parte', 'de', 'quienes', 'son', 'diferentes', 'a', 'la', 'tradición', 'política', 'de', 'Colombia', ',', 'lo', 'que', 'queremos', 'defender', 'aquí', 'es', 'la', 'Paz', ',', 'así', 'mismo', 'yo', 'no', 'pertenezco', 'a', 'ningún', 'partido', 'político', ',', 'he', 'querido', 'que', 'Aída', 'me', 'acompañe', ',', 'Navarro', 'y', 'mi', 'familia', 'porque', 'quiero', 'que', 'sean', 'testigos', 'de', 'que', 'ésta', 'persona', 'que', 'hoy', 'es', 'el', 'Alcalde', ',', 'pudo', 'no', 'serlo', ',', 'está', 'dispuesto', 'a', 'llegar', 'hasta', 'las', 'últimas', 'consecuencias', 'que', 'ustedes', 'me', 'digan', ',', 'siempre', 'por', 'la', 'paz', 'y', 'la', 'democracia', ',', 'vamos', 'a', 'comenzar', 'el', 'movimiento', 'de', 'los', 'indignados', 'de', 'Colombia', ',', 'que', 'lo', 'sepan', 'en', 'toda', 'Colombia', ',', 'nuestra', 'historia', 'comienza', 'también', 'por', 'su', 'propio', 'pueblo', 'definitivamente', 'aquí', 'y', 'desde', 'aquí', ',', 'que', 'la', 'Bogotá', 'Humana', 'sea', 'la', 'excusa', 'para', 'construir', 'una', 'Colombia', 'humana', ',', 'democrática', 'y', 'pacífica', '.', 'Los', 'espero', 'mañana', 'con', 'más', 'y', 'más', 'gente', ',', 'los', 'espero', 'mañana', 'con', 'más', 'fuerza', ',', 'aquí', 'nos', 'mantendremos', 'en', 'la', 'sede', 'de', 'Nariño', 'y', 'en', 'la', 'sede', 'de', 'Gaitán', ',', 'aquí', 'nos', 'mantendremos', 'si', 'ustedes', 'nos', 'acompañan', ',', 'aquí', 'discutiremos', 'si', 'podemos', 'de', 'verdad', 'construir', 'nuestro', 'inmediato', 'futuro', ',', 'nuestros', 'hijos', 'e', 'hijas', 'se', 'merecen', 'ese', 'esfuerzo', 'que', 'hagamos', ',', 'no', 'por', 'un', 'puesto', ',', 'por', 'un', 'país', ',', 'por', 'una', 'patria', ',', 'porque', 'no', 'vuelva', 'a', 'suceder', 'lo', 'de', 'la', 'Unión', 'Patriótica', ',', 'para', 'que', 'no', 'vuelva', 'a', 'suceder', 'lo', 'de', 'Pizarro', ',', 'porque', 'no', 'nos', 'vuelvan', 'a', 'conducir', 'a', 'las', 'guerras', 'infinitas', 'civiles', 'de', 'Colombia', ',', 'porque', 'tenemos', 'el', 'derecho', 'a', 'la', 'paz', 'y', 'ese', 'derecho', 'lo', 'ejerceremos', '.', 'Fascistas', ',', 'oscuros', 'fascistas', 'no', 'pasarán', '.', 'Espero', 'al', 'comité', 'que', 'se', 'quede', 'en', 'la', 'Plaza', 'de', 'Bolívar', ',', 'pueden', 'quedarse', 'todo', 'el', 'tiempo', ',', 'los', 'espero', 'mañana', 'a', 'las', 'cuatro', 'de', 'la', 'tarde', 'en', 'la', 'Plaza', 'de', 'Bolívar', ',', 'la', 'plaza', 'de', 'los', 'indignados', 'de', 'Bogotá', '.']\n"
     ]
    }
   ],
   "source": [
    "print(\"BEGINNING OF THE SPEECH>>>\",tokens.index(\"inmediato\"))\n",
    "print(\"END OF THE SPEECH>>>\",tokens.index(\"patria\"))\n",
    "tokens=tokens[49:3380]\n",
    "print(\"MY SWEET, SWEET TOKENS \\'COURTESY\\' of El ESPECTADOR'>>>>\",tokens)"
   ]
  },
  {
   "cell_type": "markdown",
   "metadata": {},
   "source": [
    "In order to apply certain methods we need to turn our tokens into text by applying the method of the class **TEXT**  "
   ]
  },
  {
   "cell_type": "code",
   "execution_count": 65,
   "metadata": {},
   "outputs": [],
   "source": [
    "text=Text(tokens)"
   ]
  },
  {
   "cell_type": "markdown",
   "metadata": {},
   "source": [
    "The **concordance** method in nltk...  "
   ]
  },
  {
   "cell_type": "code",
   "execution_count": 70,
   "metadata": {},
   "outputs": [
    {
     "name": "stdout",
     "output_type": "stream",
     "text": [
      "Concordance in all its Glory (Contexts in which the word \"quiero\" appears) : >>>>>>>>>>> Displaying 13 of 13 matches:\n",
      "rso , espero que estas palabras que quiero decirles a ustedes salgan fácilment\n",
      " lo que puede cambiar la historia , quiero que ustedes sean conscientes , cada\n",
      "ocracia , en las prosas de la Paz . Quiero , que los indígenas salgan con sus \n",
      "indígenas salgan con sus cabildos , quiero que el movimiento agrario salga a a\n",
      "alga a abrazar a la Bogotá Humana , quiero que los trabajadores y las trabajad\n",
      "defensa de la paz y la democracia , quiero que las juventudes animalistas , la\n",
      "entre aplausos y alegrías un toro , quiero que las juventudes ambientalistas q\n",
      "n humedal que una losa de cemento , quiero que todas las juventudes de Colombi\n",
      "o y en los barrios de Bogotá , pero quiero que me acompañen para enseñarle a C\n",
      "ompañen para enseñarle a Colombia , quiero que nos hagamos aquí un compromiso \n",
      "istema del aseo de los operadores . Quiero que seamos conscientes del compromi\n",
      ", ellos manipulan la Constitución . Quiero que seamos conscientes de la decisi\n",
      "mpañe , Navarro y mi familia porque quiero que sean testigos de que ésta perso\n",
      "None\n"
     ]
    }
   ],
   "source": [
    "print(\"Concordance in all its Glory (Contexts in which the word \\\"quiero\\\" appears) : >>>>>>>>>>>\", end=\" \" )\n",
    "print( text.concordance(\"quiero\"))\n"
   ]
  },
  {
   "cell_type": "markdown",
   "metadata": {},
   "source": [
    "*similar()* finds words used in similar contexts. "
   ]
  },
  {
   "cell_type": "code",
   "execution_count": 66,
   "metadata": {},
   "outputs": [
    {
     "name": "stdout",
     "output_type": "stream",
     "text": [
      "historia plaza paz democracia trampa orden firma presidencia\n",
      "generación posibilidad muerte constitución esperanza decisión\n",
      "conciencia ciudadanía prosa consigna vanguardia ruptura\n",
      "None\n"
     ]
    }
   ],
   "source": [
    "print(text.similar('libertad'))"
   ]
  },
  {
   "cell_type": "markdown",
   "metadata": {},
   "source": [
    "Now we can apply the **dispersion plot** method and see a much more visual result.  "
   ]
  },
  {
   "cell_type": "code",
   "execution_count": 72,
   "metadata": {},
   "outputs": [
    {
     "data": {
      "image/png": "[encoded data removed]",
      "text/plain": [
       "<Figure size 432x288 with 1 Axes>"
      ]
     },
     "metadata": {
      "needs_background": "light"
     },
     "output_type": "display_data"
    }
   ],
   "source": [
    "text.dispersion_plot([\"yo\",\"alcalde\",\"ustedes\",\"pueblo\",\"Bogotá\",\"Colombia\", \"libertad\",\"fascismo\",\"guerra\", \"defensa\",\"violencia\", \"paz\",\"democracia\",\"quiero\"])"
   ]
  },
  {
   "cell_type": "markdown",
   "metadata": {},
   "source": [
    "Now, the core of the experiment: The **frequency distribution**... "
   ]
  },
  {
   "cell_type": "code",
   "execution_count": 69,
   "metadata": {},
   "outputs": [
    {
     "name": "stdout",
     "output_type": "stream",
     "text": [
      "[('no', 40), ('colombia', 30), ('paz', 27), ('bogotá', 20), ('democracia', 18), ('quiero', 13), ('plaza', 11), ('ustedes', 10), ('historia', 10), ('bolívar', 10), ('pueblo', 10), ('yo', 10), ('alcalde', 8), ('orden', 8), ('diferencia', 8)]\n",
      "El número de palabras contenidas en el texto después de filtrarlo de stopwords son: 1453\n",
      "Muestra de palabras en minuscula y sin stopwords [['no', 'va', 'ser', 'fácil', 'discurso', 'espero', 'palabras', 'quiero', 'decirles', 'ustedes']]\n"
     ]
    },
    {
     "data": {
      "text/plain": [
       "<Figure size 640x480 with 1 Axes>"
      ]
     },
     "metadata": {},
     "output_type": "display_data"
    },
    {
     "name": "stdout",
     "output_type": "stream",
     "text": [
      "[('no', 40), ('colombia', 30), ('paz', 27), ('bogotá', 20), ('democracia', 18), ('quiero', 13), ('plaza', 11), ('ustedes', 10), ('historia', 10), ('bolívar', 10), ('pueblo', 10), ('yo', 10), ('alcalde', 8), ('orden', 8), ('diferencia', 8)]\n"
     ]
    }
   ],
   "source": [
    "content_filtered=([word.lower() for word in tokens if word not in noise_words])\n",
    "fdist=FreqDist(content_filtered).most_common(15)\n",
    "print(fdist)\n",
    "\n",
    " \n",
    "text_lines=Text(content_filtered)\n",
    "\n",
    "#Here, we can see how many tokens remain... \n",
    "#after they were filtered of stopwords\n",
    "print(\"El número de palabras contenidas en el texto después de filtrarlo de stopwords son:\\\n",
    "\", len(content_filtered))\n",
    " \n",
    "print(\"Muestra de palabras en minuscula y sin stopwords\",[content_filtered[:10]])\n",
    "Text(content_filtered).plot(10)\n",
    "\n",
    "\n",
    "content_filtered=([word.lower() for word in tokens if word not in noise_words])\n",
    "fdist=FreqDist(content_filtered).most_common(15)\n",
    "print(fdist)"
   ]
  },
  {
   "cell_type": "code",
   "execution_count": 84,
   "metadata": {},
   "outputs": [
    {
     "data": {
      "text/html": [
       "<iframe width=\"580\" height=\"215\" src=\"https://www.youtube.com/embed/fukqaZvoC9w\" frameborder=\"0\" allow=\"accelerometer; autoplay; encrypted-media; gyroscope; picture-in-picture\" allowfullscreen></iframe>"
      ],
      "text/plain": [
       "<IPython.core.display.HTML object>"
      ]
     },
     "execution_count": 84,
     "metadata": {},
     "output_type": "execute_result"
    }
   ],
   "source": [
    "# \n",
    "from IPython.display import HTML\n",
    "\n",
    "HTML('<iframe width=\"580\" height=\"215\" src=\"https://www.youtube.com/embed/fukqaZvoC9w\" frameborder=\"0\" allow=\"accelerometer; autoplay; encrypted-media; gyroscope; picture-in-picture\" allowfullscreen></iframe>')\n"
   ]
  },
  {
   "cell_type": "code",
   "execution_count": 82,
   "metadata": {},
   "outputs": [
    {
     "data": {
      "text/html": [
       "<a href=\"https://www.nltk.org/book/ch03.html\">NLTK BOOK CHAPTER 3</a>"
      ],
      "text/plain": [
       "<IPython.core.display.HTML object>"
      ]
     },
     "metadata": {},
     "output_type": "display_data"
    }
   ],
   "source": [
    "\n",
    "from IPython.core.display import display, HTML\n",
    "display(HTML(\"\"\"<a href=\"https://www.nltk.org/book/ch03.html\">NLTK BOOK CHAPTER 3</a>\"\"\"))"
   ]
  },
  {
   "cell_type": "code",
   "execution_count": null,
   "metadata": {},
   "outputs": [],
   "source": []
  }
 ],
 "metadata": {
  "kernelspec": {
   "display_name": "Python 3",
   "language": "python",
   "name": "python3"
  },
  "language_info": {
   "codemirror_mode": {
    "name": "ipython",
    "version": 3
   },
   "file_extension": ".py",
   "mimetype": "text/x-python",
   "name": "python",
   "nbconvert_exporter": "python",
   "pygments_lexer": "ipython3",
   "version": "3.6.7rc1"
  }
 },
 "nbformat": 4,
 "nbformat_minor": 2
}
